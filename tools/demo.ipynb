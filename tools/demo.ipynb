{
 "cells": [
  {
   "cell_type": "code",
   "execution_count": null,
   "id": "2b06c1ff",
   "metadata": {},
   "outputs": [],
   "source": [
    "from factor import shor, FakeQuantumOrderFinder\n",
    "\n",
    "# Uncomment to see debut output.\n",
    "# import logging\n",
    "# logger = logging.getLogger()\n",
    "# logger.setLevel(logging.DEBUG)"
   ]
  },
  {
   "cell_type": "code",
   "execution_count": null,
   "id": "53bffb62",
   "metadata": {},
   "outputs": [],
   "source": [
    "## Factor a composite number using FakeQuantumOrderFinder\n",
    "shor(17*19, order_finder=FakeQuantumOrderFinder)"
   ]
  },
  {
   "cell_type": "code",
   "execution_count": null,
   "id": "d1a3a638",
   "metadata": {},
   "outputs": [],
   "source": [
    "## Factor a composite number using QuantumOrderFinder\n",
    "## This may take up to 30 mins!\n",
    "\n",
    "shor(3*5)"
   ]
  },
  {
   "cell_type": "code",
   "execution_count": null,
   "id": "b354ead2",
   "metadata": {},
   "outputs": [],
   "source": []
  }
 ],
 "metadata": {
  "kernelspec": {
   "display_name": "Python 3 (ipykernel)",
   "language": "python",
   "name": "python3"
  },
  "language_info": {
   "codemirror_mode": {
    "name": "ipython",
    "version": 3
   },
   "file_extension": ".py",
   "mimetype": "text/x-python",
   "name": "python",
   "nbconvert_exporter": "python",
   "pygments_lexer": "ipython3",
   "version": "3.8.13"
  }
 },
 "nbformat": 4,
 "nbformat_minor": 5
}
